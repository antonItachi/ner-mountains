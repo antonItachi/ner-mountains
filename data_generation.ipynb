{
 "cells": [
  {
   "cell_type": "code",
   "execution_count": 2,
   "outputs": [
    {
     "name": "stdout",
     "output_type": "stream",
     "text": [
      "['I was in the mountains.', 'Mountains in the ocean and even whole ranges are still being discovered, and most of them have not yet been explored in detail.', 'I would rather go to the mountains than to the beach.', 'Which do you like better, the sea or the mountains?', 'Some people like the sea; others prefer the mountains.', 'We watched the sun setting behind the mountains.', 'The mountains are a lush green in summer.', 'I was roaming over the mountains all through the night.', 'The mountains in the Himalayas are higher than those in the Andes.', 'It was so nice a day that we went for a hike in the mountains.', 'The girl is getting over mountains of difficulties.', 'The path twists through the mountains.', 'The mountains look nicer from a distance.', 'The two mountains are of equal height.', 'The mountains in this part of the country are full of variety.', 'This river rises in the mountains in Nagano.', \"It's very pleasant here in the mountains.\", 'This dog is trained to save people in the mountains.', 'The moon is coming up over the mountains.', 'For a person who is in good physical condition, climbing mountains is a cinch.', 'We could see the reflection of the mountains in the lake.', 'A vast forest covers the mountains.', 'The air is rare on high mountains.', 'Nearly 80 percent of the land is mountains.', \"Why don't we go to the mountains this weekend?\", 'Those mountains over there have turned white this morning.', 'The mountains are reflected in the lake.', 'You cannot be careful in the mountains.', 'I anticipated a quiet vacation in the mountains.', \"We're going up into the mountains, so why don't you come with us?\", 'The sun descended behind the mountains.', 'It is warmer over the mountains.', 'The air is very pure in the mountains.', 'In the mountains it is not until the end of April that the snow disappears completely from the ground.', 'Mountains look better viewed from a distance.', 'The mountains lay covered with deep snow.', 'Mountains are not necessarily green.', 'The mountains are red against the blue sky.', 'My brother loves taking pictures of mountains.', 'My town is surrounded by tall mountains.', 'I am thinking of going to the mountains.', 'I went to Nagano to take pictures of the mountains covered with snow.', 'At one time I lived alone in the mountains.', 'I like mountains better than seas.', 'I climb mountains because they are there.', 'I like to walk in the mountains.', 'I like climbing mountains.', 'I saw a chain of mountains.', 'I am going to write about our parks and mountains.', 'I would go to the mountains when young.', 'I know better than to climb mountains in winter without making all necessary preparations beforehand.', \"I don't like my brother climbing the mountains.\", 'We went to the mountains to ski.', 'Everything in the fields and mountains looks fresh when spring comes.', 'Faith can move mountains.', 'They have climbed the highest mountains and walked on the floor of the seas.', 'Look at the mountains covered with snow.', 'Some snow-covered mountains were seen in the distance.', 'The river descends from the mountains to the bay below.', \"You'll see a lot of high mountains through the window.\", 'The mountains have brought forth a mouse.', 'The black and white bears living in the mountains of China and Tibet are called pandas.', 'With winter coming on, the mountains will soon be covered with snow.', 'You had better not climb such high mountains in winter.', 'Run and hide in the mountains.', 'Japan has a lot of beautiful mountains.', 'His airplane crashed in the mountains.', 'He makes mountains out of molehills.', 'He likes mountaineering and is at home with Japanese mountains.', \"He's accustomed to climbing mountains.\", 'He led his men and horses over snowy mountains and down into hot valleys.', 'They went to a resort in the mountains last summer.', \"They couldn't decide whether to go to the mountains or the sea.\", 'Flat land has no mountains or hills.', 'There are colossal mountains in the north.', 'Playing baseball is a sport, and climbing mountains is a sport, too.', 'The suspect was hiding out in the mountains for three weeks.', \"The UFO, with a zigzag movement you couldn't think of as being a plane, flew off into the mountains in the east.\", 'Tadami is in Minamiaizu in Fukushima; cut off by steep mountains and located on the prefecture border with Niigata.', 'When warm, light, air crosses mountains it rises into the upper atmosphere and does not fall back to the ground. In this, and other, ways wind changes with the terrain.', 'Even as we stand here tonight, we know there are brave Americans waking up in the deserts of Iraq and the mountains of Afghanistan to risk their lives for us.', 'Even as we stand here tonight, we know there are brave Americans waking up in the deserts of Iraq and the mountains of Afghanistan, to risk their lives for us.', 'When violent extremists operate in one stretch of mountains, people are endangered across an ocean.', 'All the villagers went into the mountains to look for a missing cat.', \"Let's go for a walk to the mountains.\", 'There is definitely a way to quit the world and live like an hermit in the mountains, being self-sufficient and without contact with anybody while not dying like a dog.', 'The salts and minerals found in these mountains are quite diverse.', 'I would have gone to the mountains had I had the money.', \"This summer we'll go to the mountains and to the sea.\", 'I suggest that you visit some villages in the mountains.', 'We are going to the mountains.', 'I like the mountains more than I like the sea.', \"It's so grey out there that I can't see the mountains on the other side of the valley.\", 'With these eyes, I shall see mountains burn.', 'The mountains could be seen from afar, and it was a breathtaking sight.', 'My parents met each other in the mountains.', \"We're taking a crash course in first aid before our two-week trek through the mountains.\", 'The mountains were all around the city.', 'Tom loves to climb mountains.', 'The lake is surrounded by mountains.', \"Tom's dream is to live in the mountains.\"]\n"
     ]
    }
   ],
   "source": [
    "import requests\n",
    "from bs4 import BeautifulSoup\n",
    "\n",
    "url = \"https://gikken.co/mate-translate/sentences/english/mountains\"\n",
    "\n",
    "response = requests.get(url)\n",
    "\n",
    "if response.status_code == 200:\n",
    "    soup = BeautifulSoup(response.content, 'html.parser')\n",
    "\n",
    "    sentence_container = soup.find(\"div\", class_=\"example-sentences\")\n",
    "\n",
    "    sentences = [p.get_text() for p in sentence_container.find_all(\"p\")]\n",
    "\n",
    "    print(sentences)\n",
    "else:\n",
    "    print(\"error\")\n"
   ],
   "metadata": {
    "collapsed": false,
    "ExecuteTime": {
     "end_time": "2023-11-22T19:56:07.625044325Z",
     "start_time": "2023-11-22T19:56:06.904772156Z"
    }
   },
   "id": "934c08248ec3d505"
  },
  {
   "cell_type": "code",
   "execution_count": 3,
   "outputs": [
    {
     "data": {
      "text/plain": "'Mountains in the ocean and even whole ranges are still being discovered, and most of them have not yet been explored in detail.'"
     },
     "execution_count": 3,
     "metadata": {},
     "output_type": "execute_result"
    }
   ],
   "source": [
    "sentences[1]"
   ],
   "metadata": {
    "collapsed": false,
    "ExecuteTime": {
     "end_time": "2023-11-22T18:01:16.419105317Z",
     "start_time": "2023-11-22T18:01:16.365408718Z"
    }
   },
   "id": "d800b01c03a34b04"
  },
  {
   "cell_type": "code",
   "execution_count": 9,
   "outputs": [
    {
     "name": "stdout",
     "output_type": "stream",
     "text": [
      "CSV-файл сохранен как data/mountain_sentences.csv\n"
     ]
    }
   ],
   "source": [
    "import csv\n",
    "import random\n",
    "\n",
    "mountains_list = [\n",
    "    \"Everest\", \"K2\", \"Kilimanjaro\", \"Denali\", \"Mont Blanc\",\n",
    "    \"Elbrus\", \"Aconcagua\", \"Matterhorn\", \"Annapurna\", \"Fuji\",\n",
    "    \"McKinley\", \"Rainier\", \"Huascarán\", \"Cotopaxi\", \"Chimborazo\",\n",
    "    \"Puncak Jaya\", \"Cook\", \"Olympus\", \"Atlas\", \"Andes\"\n",
    "]\n",
    "\n",
    "def replace_mountain(sentences, mountain_names):\n",
    "    replaced_sentences = []\n",
    "    for sentence in sentences:\n",
    "        mountain_name = random.choice(mountains_list)\n",
    "        replaced_sentence = sentence.replace(\"Mountains\", mountain_name)\n",
    "\n",
    "        mountain_name = random.choice(mountains_list)\n",
    "        replaced_sentence = replaced_sentence.replace(\"mountains\", mountain_name)\n",
    "        replaced_sentences.append(replaced_sentence)\n",
    "    return replaced_sentences\n",
    "\n",
    "replaced_sentences = replace_mountain(sentences, mountains_list)\n",
    "\n",
    "csv_filename = \"data/mountain_sentences.csv\"\n",
    "with open(csv_filename, mode='w', newline='', encoding='utf-8') as file:\n",
    "    writer = csv.writer(file)\n",
    "    for sentence in replaced_sentences:\n",
    "        writer.writerow([sentence])\n",
    "\n",
    "print(f\"CSV-файл сохранен как {csv_filename}\")"
   ],
   "metadata": {
    "collapsed": false,
    "ExecuteTime": {
     "end_time": "2023-11-22T20:03:28.758946531Z",
     "start_time": "2023-11-22T20:03:28.733640904Z"
    }
   },
   "id": "2e96ac9586bee1f8"
  },
  {
   "cell_type": "code",
   "execution_count": 41,
   "outputs": [],
   "source": [
    "import pandas as pd\n",
    "df = pd.read_csv()\n",
    "\n",
    "def create_annotations(sentence):\n",
    "    words = sentence.split()\n",
    "\n",
    "    annotations = [\"O\"] * len(words)\n",
    "\n",
    "    for mountain_name in mountains_list:\n",
    "        if mountain_name in sentence:\n",
    "            mountain_words = mountain_name.split()\n",
    "            start_index = sentence.find(mountain_name)\n",
    "            end_index = start_index + len(mountain_words)\n",
    "\n",
    "            if end_index <= len(annotations):\n",
    "                for i in range(start_index, end_index):\n",
    "                    if i == start_index:\n",
    "                        annotations[i] = \"B-MOUNT\"\n",
    "                    else:\n",
    "                        annotations[i] = \"I-MOUNT\"\n",
    "    \n",
    "    return \" \".join(annotations)\n",
    "\n",
    "df[\"annotation\"] = df[\"sentence\"].apply(create_annotations)\n",
    "\n",
    "output_csv_filename = \"data/newcsv.csv\"\n",
    "df.to_csv(output_csv_filename, index=False, encoding=\"utf-8\")"
   ],
   "metadata": {
    "collapsed": false,
    "ExecuteTime": {
     "end_time": "2023-11-22T21:37:39.261452839Z",
     "start_time": "2023-11-22T21:37:39.252531995Z"
    }
   },
   "id": "5ec374346e87a43f"
  },
  {
   "cell_type": "code",
   "execution_count": 43,
   "outputs": [
    {
     "data": {
      "text/plain": "                                             sentence  \\\n0   Chimborazo in the ocean and even whole ranges ...   \n1   I would rather go to the Elbrus than to the be...   \n2   Which do you like better, the sea or the Olympus?   \n3   Some people like the sea; others prefer the An...   \n4    We watched the sun setting behind the Annapurna.   \n5           The Huascarán are a lush green in summer.   \n6   I was roaming over the Denali all through the ...   \n7   The Fuji in the Himalayas are higher than thos...   \n8   It was so nice a day that we went for a hike i...   \n9      The girl is getting over Cook of difficulties.   \n10             The path twists through the Huascarán.   \n11         The Chimborazo look nicer from a distance.   \n12                The two Denali are of equal height.   \n13  The Chimborazo in this part of the country are...   \n14           This river rises in the Atlas in Nagano.   \n15           It's very pleasant here in the Cotopaxi.   \n16  This dog is trained to save people in the Ever...   \n17                 The moon is coming up over the K2.   \n18  For a person who is in good physical condition...   \n19  We could see the reflection of the Denali in t...   \n\n                                           annotation  \n0   B-MOUNT O O O O O O O O O O O O O O O O O O O ...  \n1                               O O O O O O O O O O O  \n2                                 O O O O O O O O O O  \n3                                   O O O O O O O O O  \n4                                     O O O O O O O O  \n5                               O O O O B-MOUNT O O O  \n6                                 O O O O O O O O O O  \n7                       O O O O B-MOUNT O O O O O O O  \n8                       O O O O O O O O O O O O O O O  \n9                                     O O O O O O O O  \n10                                        O O O O O O  \n11                                O O O O B-MOUNT O O  \n12                                      O O O O O O O  \n13                      O O O O B-MOUNT O O O O O O O  \n14                                    O O O O O O O O  \n15                                      O O O O O O O  \n16                                O O O O O O O O O O  \n17                                    O O O O O O O O  \n18                        O O O O O O O O O O O O O O  \n19                              O O O O O O O O O O O  ",
      "text/html": "<div>\n<style scoped>\n    .dataframe tbody tr th:only-of-type {\n        vertical-align: middle;\n    }\n\n    .dataframe tbody tr th {\n        vertical-align: top;\n    }\n\n    .dataframe thead th {\n        text-align: right;\n    }\n</style>\n<table border=\"1\" class=\"dataframe\">\n  <thead>\n    <tr style=\"text-align: right;\">\n      <th></th>\n      <th>sentence</th>\n      <th>annotation</th>\n    </tr>\n  </thead>\n  <tbody>\n    <tr>\n      <th>0</th>\n      <td>Chimborazo in the ocean and even whole ranges ...</td>\n      <td>B-MOUNT O O O O O O O O O O O O O O O O O O O ...</td>\n    </tr>\n    <tr>\n      <th>1</th>\n      <td>I would rather go to the Elbrus than to the be...</td>\n      <td>O O O O O O O O O O O</td>\n    </tr>\n    <tr>\n      <th>2</th>\n      <td>Which do you like better, the sea or the Olympus?</td>\n      <td>O O O O O O O O O O</td>\n    </tr>\n    <tr>\n      <th>3</th>\n      <td>Some people like the sea; others prefer the An...</td>\n      <td>O O O O O O O O O</td>\n    </tr>\n    <tr>\n      <th>4</th>\n      <td>We watched the sun setting behind the Annapurna.</td>\n      <td>O O O O O O O O</td>\n    </tr>\n    <tr>\n      <th>5</th>\n      <td>The Huascarán are a lush green in summer.</td>\n      <td>O O O O B-MOUNT O O O</td>\n    </tr>\n    <tr>\n      <th>6</th>\n      <td>I was roaming over the Denali all through the ...</td>\n      <td>O O O O O O O O O O</td>\n    </tr>\n    <tr>\n      <th>7</th>\n      <td>The Fuji in the Himalayas are higher than thos...</td>\n      <td>O O O O B-MOUNT O O O O O O O</td>\n    </tr>\n    <tr>\n      <th>8</th>\n      <td>It was so nice a day that we went for a hike i...</td>\n      <td>O O O O O O O O O O O O O O O</td>\n    </tr>\n    <tr>\n      <th>9</th>\n      <td>The girl is getting over Cook of difficulties.</td>\n      <td>O O O O O O O O</td>\n    </tr>\n    <tr>\n      <th>10</th>\n      <td>The path twists through the Huascarán.</td>\n      <td>O O O O O O</td>\n    </tr>\n    <tr>\n      <th>11</th>\n      <td>The Chimborazo look nicer from a distance.</td>\n      <td>O O O O B-MOUNT O O</td>\n    </tr>\n    <tr>\n      <th>12</th>\n      <td>The two Denali are of equal height.</td>\n      <td>O O O O O O O</td>\n    </tr>\n    <tr>\n      <th>13</th>\n      <td>The Chimborazo in this part of the country are...</td>\n      <td>O O O O B-MOUNT O O O O O O O</td>\n    </tr>\n    <tr>\n      <th>14</th>\n      <td>This river rises in the Atlas in Nagano.</td>\n      <td>O O O O O O O O</td>\n    </tr>\n    <tr>\n      <th>15</th>\n      <td>It's very pleasant here in the Cotopaxi.</td>\n      <td>O O O O O O O</td>\n    </tr>\n    <tr>\n      <th>16</th>\n      <td>This dog is trained to save people in the Ever...</td>\n      <td>O O O O O O O O O O</td>\n    </tr>\n    <tr>\n      <th>17</th>\n      <td>The moon is coming up over the K2.</td>\n      <td>O O O O O O O O</td>\n    </tr>\n    <tr>\n      <th>18</th>\n      <td>For a person who is in good physical condition...</td>\n      <td>O O O O O O O O O O O O O O</td>\n    </tr>\n    <tr>\n      <th>19</th>\n      <td>We could see the reflection of the Denali in t...</td>\n      <td>O O O O O O O O O O O</td>\n    </tr>\n  </tbody>\n</table>\n</div>"
     },
     "execution_count": 43,
     "metadata": {},
     "output_type": "execute_result"
    }
   ],
   "source": [
    "df.head(20)"
   ],
   "metadata": {
    "collapsed": false,
    "ExecuteTime": {
     "end_time": "2023-11-22T21:39:10.760642346Z",
     "start_time": "2023-11-22T21:39:10.718001624Z"
    }
   },
   "id": "30d9dfd7ebc37c3b"
  },
  {
   "cell_type": "code",
   "execution_count": 31,
   "outputs": [
    {
     "data": {
      "text/plain": "Index(['sentence'], dtype='object')"
     },
     "execution_count": 31,
     "metadata": {},
     "output_type": "execute_result"
    }
   ],
   "source": [
    "df.columns"
   ],
   "metadata": {
    "collapsed": false,
    "ExecuteTime": {
     "end_time": "2023-11-22T21:33:11.498508168Z",
     "start_time": "2023-11-22T21:33:11.482670669Z"
    }
   },
   "id": "286399eeeb1919c8"
  },
  {
   "cell_type": "code",
   "execution_count": 13,
   "outputs": [],
   "source": [
    "# Path to the file\n",
    "file_path = 'data/mountains_list100.txt'  # Replace with the actual file path\n",
    "\n",
    "# Reading the file\n",
    "with open(file_path, 'r') as file:\n",
    "    mountains = file.readlines()\n",
    "\n",
    "# Processing the data\n",
    "mountains = [mountain.strip() for mountain in mountains if mountain.strip()]"
   ],
   "metadata": {
    "collapsed": false,
    "ExecuteTime": {
     "end_time": "2023-11-23T00:53:08.814298930Z",
     "start_time": "2023-11-23T00:53:08.803142633Z"
    }
   },
   "id": "657c2c56046df65c"
  },
  {
   "cell_type": "code",
   "execution_count": 14,
   "outputs": [
    {
     "data": {
      "text/plain": "['Mount Everest',\n 'Cerro Aconcagua',\n 'Denali',\n 'Kilimanjaro',\n 'Cristobal Colon',\n 'Mount Logan',\n 'Citlaltepetl',\n 'Mount Vinson',\n 'Puncak Jaya',\n 'Gora Elbrus',\n 'Mount Blanc',\n 'Damavand',\n 'Klyuchevskaya',\n 'Nanga Parbat',\n 'Mauna Kea',\n 'Chimborazo',\n 'Bogda Shan',\n 'Namcha Barwa',\n 'Kinabalu',\n 'Mount Rainier',\n 'K2',\n 'Ras Dashen',\n 'Tajumulco',\n 'Pico Bolivar',\n 'Fairweather',\n 'Yü Shan',\n 'Margherita',\n 'Kangchenjunga',\n 'Tirich Mir',\n 'Mount Cameroon',\n 'Mount Kenya',\n 'Gunung Kerinci',\n 'Mount Erebus',\n 'Mount Fuji',\n 'Jebel Toubkal',\n 'Mount Cook',\n 'Cerro Chirripo',\n 'Gunung Rinjani',\n 'Pico Teide',\n 'Mount Boising',\n 'San Valentin',\n 'Gunnbjørn Fjeld',\n 'Gunung Semeru',\n 'Ritacuba Blanca',\n 'Minya Konka',\n 'Mount Ararat',\n 'Kongur Shan',\n 'Mount Blackburn',\n 'Mount Hayes',\n 'Rantemario',\n 'Saint Elias',\n 'Dhaulagiri I',\n 'Mercedario',\n 'Volcan Lautaro',\n 'Gora Belukta',\n 'Etna',\n 'San Lorenzo',\n 'Karisimbi',\n 'Mount Waddington',\n 'Mulhacen',\n 'Gunung Slamet',\n 'Sauyr Zhotasy',\n 'Cerro del Bolson',\n 'Tomort',\n 'Yulong Xueshan',\n 'Meru',\n 'Shiveluch',\n 'Nanda Devi',\n 'Ichinsky',\n 'Batura Sar',\n 'Gunung Lawu',\n 'Mount Siple',\n 'Pico Duarte',\n 'Manaslu',\n 'Mount Whitney',\n 'Gunung Raung',\n 'Piton de Neiges',\n 'Xuelian Feng',\n 'Haleakala',\n 'Popocatepetl',\n 'Mount Lucania',\n 'Gunung Agung',\n 'Gunung Binaiya',\n 'Pico Basile',\n 'Koryaksky',\n 'Kangkar Punzum',\n 'Mount Stephenson',\n 'Annapurna',\n 'Pik Talghar',\n 'Mount Shasta',\n 'Mount Wilhelm',\n 'Ramelau',\n 'Mount Apo',\n 'Gyalha Peri',\n 'Emi Koussi',\n 'Mount Paget']"
     },
     "execution_count": 14,
     "metadata": {},
     "output_type": "execute_result"
    }
   ],
   "source": [
    "mountains[:-5]"
   ],
   "metadata": {
    "collapsed": false,
    "ExecuteTime": {
     "end_time": "2023-11-23T00:53:09.897397187Z",
     "start_time": "2023-11-23T00:53:09.893580749Z"
    }
   },
   "id": "cfb9906d1d691e23"
  },
  {
   "cell_type": "code",
   "execution_count": 16,
   "outputs": [],
   "source": [
    "import random\n",
    "\n",
    "# Paths to the files\n",
    "sentences_file_path = 'mountains_sentences.csv'\n",
    "mountains_file_path = 'data/mountains_list100.txt'\n",
    "output_file_path = 'path_to_your_output_file.csv'   \n",
    "\n",
    "# Reading the list of mountains\n",
    "with open(mountains_file_path, 'r') as file:\n",
    "    mountains = [line.strip() for line in file.readlines()]\n",
    "\n",
    "# Process each sentence and replace \"mountain\" with a random mountain name\n",
    "new_sentences = []\n",
    "with open(sentences_file_path, 'r') as file:\n",
    "    for sentence in file:\n",
    "        if 'mountains' in sentence.lower():\n",
    "            # Replace 'mountain' with a random mountain name\n",
    "            new_sentence = sentence.replace('mountains', random.choice(mountains))\n",
    "            new_sentences.append(new_sentence)\n",
    "        else:\n",
    "            new_sentences.append(sentence)\n",
    "\n",
    "# Writing the new sentences to the output file\n",
    "with open(output_file_path, 'w') as file:\n",
    "    for sentence in new_sentences:\n",
    "        file.write(sentence)\n"
   ],
   "metadata": {
    "collapsed": false,
    "ExecuteTime": {
     "end_time": "2023-11-23T01:04:07.427596743Z",
     "start_time": "2023-11-23T01:04:07.419453407Z"
    }
   },
   "id": "1bb86c4803988012"
  },
  {
   "cell_type": "code",
   "execution_count": 23,
   "outputs": [],
   "source": [
    "import pandas as pd\n",
    "import csv\n",
    "import re\n",
    "\n",
    "file_path = 'path_to_your_output_file.csv'\n",
    "df = pd.read_csv(file_path)\n",
    "\n",
    "mountains_file_path = 'data/mountains_list100.txt' \n",
    "with open(mountains_file_path, 'r') as file:\n",
    "    mountains = [line.strip() for line in file.readlines()]\n",
    "    mountains = sorted(mountains, key=len, reverse=True)  \n",
    "\n",
    "def tokenize(sentence):\n",
    "    return re.findall(r'\\b\\w+\\b|\\.', sentence)\n",
    "\n",
    "def bio_annotate(tokens, mountains_list):\n",
    "    labels = []\n",
    "    skip = 0\n",
    "    for i, token in enumerate(tokens):\n",
    "        if skip > 0:\n",
    "            skip -= 1\n",
    "            continue\n",
    "        matched = False\n",
    "        for mountain in mountains_list:\n",
    "            mountain_tokens = mountain.split()\n",
    "            if tokens[i:i+len(mountain_tokens)] == mountain_tokens:\n",
    "                labels += ['B-MOUNTAIN'] + ['I-MOUNTAIN'] * (len(mountain_tokens) - 1)\n",
    "                skip = len(mountain_tokens) - 1\n",
    "                matched = True\n",
    "                break\n",
    "        if not matched:\n",
    "            labels.append('O')\n",
    "    return labels\n",
    "\n",
    "sentence_column = 'sentence'\n",
    "\n",
    "annotated_data = []\n",
    "for sentence in df[sentence_column]:\n",
    "    tokens = tokenize(sentence)\n",
    "    labels = bio_annotate(tokens, mountains)\n",
    "    annotated_data.append([tokens, labels])\n",
    "\n",
    "output_file = 'annotated_sentences.csv'\n",
    "with open(output_file, mode='w', newline='', encoding='utf-8') as file:\n",
    "    writer = csv.writer(file)\n",
    "    for row in annotated_data:\n",
    "        writer.writerow(row)"
   ],
   "metadata": {
    "collapsed": false,
    "ExecuteTime": {
     "end_time": "2023-11-23T02:12:04.237450410Z",
     "start_time": "2023-11-23T02:12:03.927555693Z"
    }
   },
   "id": "d53876dd5fa340e1"
  },
  {
   "cell_type": "code",
   "execution_count": 5,
   "outputs": [
    {
     "data": {
      "text/plain": "                                              tokens  \\\n0  ['There', 'are', 'no', 'Mount', 'Apo', 'betwee...   \n1  ['We', 'were', 'just', 'about', 'to', 'go', 'u...   \n2  ['The', 'quaint', 'village', 'is', 'surrounded...   \n3  ['Ridgway', 'a', 'few', 'more', 'miles', 'away...   \n\n                                                tags  \n0  ['O', 'O', 'O', 'B-MOUNTAIN', 'I-MOUNTAIN', 'O...  \n1  ['O', 'O', 'O', 'O', 'O', 'O', 'O', 'O', 'O', ...  \n2  ['O', 'O', 'O', 'O', 'O', 'O', 'B-MOUNTAIN', '...  \n3  ['O', 'O', 'O', 'O', 'O', 'O', 'O', 'O', 'O', ...  ",
      "text/html": "<div>\n<style scoped>\n    .dataframe tbody tr th:only-of-type {\n        vertical-align: middle;\n    }\n\n    .dataframe tbody tr th {\n        vertical-align: top;\n    }\n\n    .dataframe thead th {\n        text-align: right;\n    }\n</style>\n<table border=\"1\" class=\"dataframe\">\n  <thead>\n    <tr style=\"text-align: right;\">\n      <th></th>\n      <th>tokens</th>\n      <th>tags</th>\n    </tr>\n  </thead>\n  <tbody>\n    <tr>\n      <th>0</th>\n      <td>['There', 'are', 'no', 'Mount', 'Apo', 'betwee...</td>\n      <td>['O', 'O', 'O', 'B-MOUNTAIN', 'I-MOUNTAIN', 'O...</td>\n    </tr>\n    <tr>\n      <th>1</th>\n      <td>['We', 'were', 'just', 'about', 'to', 'go', 'u...</td>\n      <td>['O', 'O', 'O', 'O', 'O', 'O', 'O', 'O', 'O', ...</td>\n    </tr>\n    <tr>\n      <th>2</th>\n      <td>['The', 'quaint', 'village', 'is', 'surrounded...</td>\n      <td>['O', 'O', 'O', 'O', 'O', 'O', 'B-MOUNTAIN', '...</td>\n    </tr>\n    <tr>\n      <th>3</th>\n      <td>['Ridgway', 'a', 'few', 'more', 'miles', 'away...</td>\n      <td>['O', 'O', 'O', 'O', 'O', 'O', 'O', 'O', 'O', ...</td>\n    </tr>\n  </tbody>\n</table>\n</div>"
     },
     "execution_count": 5,
     "metadata": {},
     "output_type": "execute_result"
    }
   ],
   "source": [
    "import pandas as pd\n",
    "final = pd.read_csv(\"data/500_samples/annotated_sentences.csv\")\n",
    "final.head(4)"
   ],
   "metadata": {
    "collapsed": false,
    "ExecuteTime": {
     "end_time": "2023-11-23T03:16:21.983493910Z",
     "start_time": "2023-11-23T03:16:21.941680910Z"
    }
   },
   "id": "e1214a4190016f5d"
  },
  {
   "cell_type": "code",
   "execution_count": null,
   "outputs": [],
   "source": [],
   "metadata": {
    "collapsed": false
   },
   "id": "a7f72cc637632d3a"
  }
 ],
 "metadata": {
  "kernelspec": {
   "display_name": "Python 3",
   "language": "python",
   "name": "python3"
  },
  "language_info": {
   "codemirror_mode": {
    "name": "ipython",
    "version": 2
   },
   "file_extension": ".py",
   "mimetype": "text/x-python",
   "name": "python",
   "nbconvert_exporter": "python",
   "pygments_lexer": "ipython2",
   "version": "2.7.6"
  }
 },
 "nbformat": 4,
 "nbformat_minor": 5
}
